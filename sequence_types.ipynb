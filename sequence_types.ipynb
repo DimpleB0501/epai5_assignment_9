{
 "cells": [
  {
   "cell_type": "markdown",
   "id": "d091b39c-1d9e-4935-85d8-d324b708c42c",
   "metadata": {},
   "source": [
    "# Module 1 test"
   ]
  },
  {
   "cell_type": "code",
   "execution_count": 1,
   "id": "606e0fe9-a9c0-4642-800c-781180ec010c",
   "metadata": {},
   "outputs": [],
   "source": [
    "from polygon import Polygon"
   ]
  },
  {
   "cell_type": "code",
   "execution_count": 2,
   "id": "ceeb9ea4-158b-4fcc-b1e9-0b1ef2ea37c1",
   "metadata": {},
   "outputs": [
    {
     "data": {
      "text/plain": [
       "Polygon with 5 sides and 11 circumradius"
      ]
     },
     "execution_count": 2,
     "metadata": {},
     "output_type": "execute_result"
    }
   ],
   "source": [
    "obj = Polygon(5, 11)\n",
    "obj"
   ]
  },
  {
   "cell_type": "code",
   "execution_count": 3,
   "id": "5d25a64a-3f9b-4c24-a2c3-279c161a2741",
   "metadata": {},
   "outputs": [
    {
     "name": "stdout",
     "output_type": "stream",
     "text": [
      " R (Circumradius) : 11        \n",
      " n edges/ vertices : 5        \n",
      " interior angle: 108.0        \n",
      " edge length: 12.931275550434409       \n",
      " apothem: 8.899186938124423        \n",
      " area: 287.694596179284        \n",
      " perimeter: 64.65637775217205\n"
     ]
    }
   ],
   "source": [
    "print (f\" R (Circumradius) : {obj.circumradius} \\\n",
    "       \\n n edges/ vertices : {obj.n_edges} \\\n",
    "       \\n interior angle: {obj.interior_angle} \\\n",
    "       \\n edge length: {obj.edge_length}\\\n",
    "       \\n apothem: {obj.apothem} \\\n",
    "       \\n area: {obj.area} \\\n",
    "       \\n perimeter: {obj.perimeter}\")"
   ]
  },
  {
   "cell_type": "markdown",
   "id": "853b2e46-c14b-4440-bf11-cd5dc9cb1210",
   "metadata": {},
   "source": [
    "### Equality and greater than equal to check"
   ]
  },
  {
   "cell_type": "code",
   "execution_count": 4,
   "id": "773b2d4e-8260-4c3e-bd6c-3d3eee43df97",
   "metadata": {},
   "outputs": [
    {
     "name": "stdout",
     "output_type": "stream",
     "text": [
      "Polygon 1 (Polygon with 5 sides and 11 circumradius) and Polygon 2 (Polygon with 5 sides and 11 circumradius) are equal\n",
      "\n",
      "No of vertices (5) in Polygon 1 is less than or equal to no. of vertices in Polygon 2 (5)\n"
     ]
    }
   ],
   "source": [
    "obj_2 = Polygon (5, 11)\n",
    "if obj.__eq__(obj_2):\n",
    "    print (f\"Polygon 1 ({obj}) and Polygon 2 ({obj_2}) are equal\\n\")\n",
    "else:\n",
    "    print (f\"Polygons are not equa\\nl\")\n",
    "\n",
    "if obj.__gt__(obj_2):\n",
    "    print (f\"No of vertices ({obj.n_edges}) in Polygon 1 is greater than no. of vertices in Polygon 2 ({obj_2.n_edges})\")\n",
    "else:\n",
    "    print (f\"No of vertices ({obj.n_edges}) in Polygon 1 is less than or equal to no. of vertices in Polygon 2 ({obj_2.n_edges})\")"
   ]
  },
  {
   "cell_type": "code",
   "execution_count": 5,
   "id": "330a4257-823b-48df-ab2c-05a9a7c425b2",
   "metadata": {},
   "outputs": [
    {
     "name": "stdout",
     "output_type": "stream",
     "text": [
      "Polygon 1 (Polygon with 5 sides and 11 circumradius) and Polygon 3 (Polygon with 4 sides and 11 circumradius) are equal\n",
      "No of vertices (5) in Polygon 1 is greater than no. of vertices in Polygon 3 (4)\n"
     ]
    }
   ],
   "source": [
    "obj_3 = Polygon (4, 11)\n",
    "if obj.__eq__(obj_2):\n",
    "    print (f\"Polygon 1 ({obj}) and Polygon 3 ({obj_3}) are equal\")\n",
    "else:\n",
    "    print (f\"Polygons are not equal\")\n",
    "\n",
    "if obj.__gt__(obj_3):\n",
    "    print (f\"No of vertices ({obj.n_edges}) in Polygon 1 is greater than no. of vertices in Polygon 3 ({obj_3.n_edges})\")\n",
    "else:\n",
    "    print (f\"No of vertices ({obj.n_edges}) in Polygon 1 is less than or equal to no. of vertices in Polygon 3 ({obj_3.n_edges})\")"
   ]
  },
  {
   "cell_type": "code",
   "execution_count": 6,
   "id": "64f55fb1-6716-44d6-9342-72072c4b809f",
   "metadata": {},
   "outputs": [
    {
     "name": "stdout",
     "output_type": "stream",
     "text": [
      "Polygons are not equal\n",
      "No of vertices (5) in Polygon 1 is less than or equal to no. of vertices in Polygon 4 (8)\n"
     ]
    }
   ],
   "source": [
    "obj_4 = Polygon (8, 11)\n",
    "if obj.__eq__(obj_4):\n",
    "    print (f\"Polygon 1 ({obj}) and Polygon 4 ({obj_4}) are equal\")\n",
    "else:\n",
    "    print (f\"Polygons are not equal\")\n",
    "\n",
    "if obj.__gt__(obj_4):\n",
    "    print (f\"No of vertices ({obj.n_edges}) in Polygon 1 is greater than no. of vertices in Polygon 4 ({obj_4.n_edges})\")\n",
    "else:\n",
    "    print (f\"No of vertices ({obj.n_edges}) in Polygon 1 is less than or equal to no. of vertices in Polygon 4 ({obj_4.n_edges})\")"
   ]
  },
  {
   "cell_type": "markdown",
   "id": "f9c98fc4-b334-46a4-be33-f0e5c3302d72",
   "metadata": {},
   "source": [
    "# Module 2"
   ]
  },
  {
   "cell_type": "code",
   "execution_count": 7,
   "id": "48c37c49-4caf-40a7-97a3-2318f2079618",
   "metadata": {},
   "outputs": [],
   "source": [
    "from polygon_sequence import PolygonSequence"
   ]
  },
  {
   "cell_type": "code",
   "execution_count": 8,
   "id": "2ed94634",
   "metadata": {},
   "outputs": [
    {
     "data": {
      "text/plain": [
       "Polygon starting from 3 to 10 sides and 4 circumradius \n",
       " Empty Dictionary"
      ]
     },
     "execution_count": 8,
     "metadata": {},
     "output_type": "execute_result"
    }
   ],
   "source": [
    "seq = PolygonSequence(10, 4)\n",
    "seq"
   ]
  },
  {
   "cell_type": "code",
   "execution_count": 9,
   "id": "9e8a19ec",
   "metadata": {},
   "outputs": [
    {
     "data": {
      "text/plain": [
       "'Max ratio is 1.879385241571817 at edge10'"
      ]
     },
     "execution_count": 9,
     "metadata": {},
     "output_type": "execute_result"
    }
   ],
   "source": [
    "seq.max_efficiency_polygon"
   ]
  },
  {
   "cell_type": "code",
   "execution_count": 10,
   "id": "ae27fdcb",
   "metadata": {},
   "outputs": [
    {
     "data": {
      "text/plain": [
       "Polygon starting from 3 to 10 sides and 4 circumradius \n",
       " 3:1.2246467991473532e-16\n",
       "4:1.0000000000000002\n",
       "5:1.4142135623730951\n",
       "6:1.618033988749895\n",
       "7:1.7320508075688772\n",
       "8:1.8019377358048383\n",
       "9:1.8477590650225737\n",
       "10:1.879385241571817"
      ]
     },
     "execution_count": 10,
     "metadata": {},
     "output_type": "execute_result"
    }
   ],
   "source": [
    "seq"
   ]
  },
  {
   "cell_type": "code",
   "execution_count": null,
   "id": "01d3b22d",
   "metadata": {},
   "outputs": [],
   "source": []
  }
 ],
 "metadata": {
  "kernelspec": {
   "display_name": "Python 3 (ipykernel)",
   "language": "python",
   "name": "python3"
  },
  "language_info": {
   "codemirror_mode": {
    "name": "ipython",
    "version": 3
   },
   "file_extension": ".py",
   "mimetype": "text/x-python",
   "name": "python",
   "nbconvert_exporter": "python",
   "pygments_lexer": "ipython3",
   "version": "3.12.3"
  }
 },
 "nbformat": 4,
 "nbformat_minor": 5
}
